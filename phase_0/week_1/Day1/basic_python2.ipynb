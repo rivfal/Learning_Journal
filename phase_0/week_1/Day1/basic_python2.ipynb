{
 "cells": [
  {
   "cell_type": "markdown",
   "metadata": {},
   "source": [
    "# Python Operators\n",
    "\n",
    "reference: [link1](https://www.w3schools.com/python/python_operators.asp), [link2](https://www.tutorialspoint.com/python/python_basic_operators.htm)"
   ]
  },
  {
   "cell_type": "markdown",
   "metadata": {},
   "source": [
    "## Python Arithmetic Operators "
   ]
  },
  {
   "cell_type": "code",
   "execution_count": 16,
   "metadata": {},
   "outputs": [
    {
     "name": "stdout",
     "output_type": "stream",
     "text": [
      "9\n",
      "5\n",
      "3.5\n",
      "1\n",
      "3\n",
      "14\n",
      "49\n"
     ]
    }
   ],
   "source": [
    "val1 = 7\n",
    "val2 = 2\n",
    "\n",
    "addition = val1 + val2 # using the addition operator\n",
    "subtraction = val1 - val2 # using the subtraction operator\n",
    "division = val1 / val2 # using the division operator (hasilnya float)\n",
    "modulus = val1 % val2 # using the modulus operator (sisa bagi)\n",
    "floor = val1 // val2 # using the floor operator (hasil bagi, pembulatan kebawah, jika - maka 0)\n",
    "multiplication = val1 * val2 # using the multiplication operator\n",
    "power = val1 ** val2 # using the power operator\n",
    "\n",
    "print(addition)\n",
    "print(subtraction)\n",
    "print(division)\n",
    "print(modulus)\n",
    "print(floor)\n",
    "print(multiplication)\n",
    "print(power)"
   ]
  },
  {
   "cell_type": "markdown",
   "metadata": {},
   "source": [
    "# Python Assignment Operators"
   ]
  },
  {
   "cell_type": "code",
   "execution_count": 17,
   "metadata": {},
   "outputs": [
    {
     "name": "stdout",
     "output_type": "stream",
     "text": [
      "9\n"
     ]
    }
   ],
   "source": [
    "val1 += val2 #val1 = val1 + val2\n",
    "print(val1)"
   ]
  },
  {
   "cell_type": "code",
   "execution_count": 18,
   "metadata": {},
   "outputs": [
    {
     "name": "stdout",
     "output_type": "stream",
     "text": [
      "7\n"
     ]
    }
   ],
   "source": [
    "val1 -= val2 #val1 = val1 - val2\n",
    "print(val1)"
   ]
  },
  {
   "cell_type": "code",
   "execution_count": 19,
   "metadata": {},
   "outputs": [
    {
     "name": "stdout",
     "output_type": "stream",
     "text": [
      "3\n"
     ]
    }
   ],
   "source": [
    "val1 //= val2 #hasil bagi, pembulatan kebawah.\n",
    "print(val1)"
   ]
  },
  {
   "cell_type": "markdown",
   "metadata": {},
   "source": [
    "## Python Bitwise Operators\n",
    "\n",
    "Bitwise is a level of operations that involves working with individual bits, which are the smallest units of data in a computer. Each bit has a single binary value: 0 or 1. \n",
    "\n",
    "reference: [link1](https://www.scientecheasy.com/2020/05/bitwise-operator-in-java.html/), \n",
    "[link2](https://www.geeksforgeeks.org/assignment-operators-in-python/)\n",
    "\n",
    "<img src=\"./images/and-operation.png\">"
   ]
  },
  {
   "cell_type": "code",
   "execution_count": 20,
   "metadata": {},
   "outputs": [
    {
     "name": "stdout",
     "output_type": "stream",
     "text": [
      "10\n"
     ]
    }
   ],
   "source": [
    "val1= 10\n",
    "val2= 11\n",
    "val1 &= val2 #bitwise and, digunakan \n",
    "print(val1)"
   ]
  },
  {
   "cell_type": "markdown",
   "metadata": {},
   "source": [
    "\n",
    "<img src=\"./images/or-operation.png\">"
   ]
  },
  {
   "cell_type": "code",
   "execution_count": 22,
   "metadata": {},
   "outputs": [
    {
     "name": "stdout",
     "output_type": "stream",
     "text": [
      "30\n"
     ]
    }
   ],
   "source": [
    "val1= 20\n",
    "val2= 10\n",
    "val1 |= val2 #bitwise and, digunakan \n",
    "print(val1)"
   ]
  },
  {
   "cell_type": "markdown",
   "metadata": {},
   "source": [
    "**Python Comparison Operators**\n",
    "\n",
    "<img src=\"./images/comparasion.png\" width=\"500\" height=\"300\">"
   ]
  },
  {
   "cell_type": "code",
   "execution_count": 1,
   "metadata": {},
   "outputs": [
    {
     "name": "stdout",
     "output_type": "stream",
     "text": [
      "True\n",
      "False\n"
     ]
    }
   ],
   "source": [
    "x = 5\n",
    "y = 3\n",
    "\n",
    "print(x != y)\n",
    "print(x == y)"
   ]
  },
  {
   "cell_type": "markdown",
   "metadata": {},
   "source": [
    "## Python Logical Operators\n",
    "\n",
    "<img src='./images/logical.png'>"
   ]
  },
  {
   "cell_type": "code",
   "execution_count": 1,
   "metadata": {},
   "outputs": [
    {
     "name": "stdout",
     "output_type": "stream",
     "text": [
      "True\n",
      "False\n",
      "False\n"
     ]
    }
   ],
   "source": [
    "x = 5\n",
    "\n",
    "print(x > 3 or x < 4)\n",
    "print(not(x > 3 or x < 4))\n",
    "\n",
    "print(x > 3 and x < 4)"
   ]
  },
  {
   "cell_type": "markdown",
   "metadata": {},
   "source": [
    "## Python Identity Operators\n",
    "\n",
    "Identity operators are used to compare the objects, **not if they are equal**, but if **they are actually the same object**, with the same memory location:"
   ]
  },
  {
   "cell_type": "code",
   "execution_count": 12,
   "metadata": {},
   "outputs": [
    {
     "name": "stdout",
     "output_type": "stream",
     "text": [
      "False\n",
      "True\n",
      "False\n",
      "True\n"
     ]
    }
   ],
   "source": [
    "x = [\"apple\", \"banana\"]\n",
    "y = [\"apple\", \"banana\"]\n",
    "z = x\n",
    "\n",
    "print(x is not z) #identity dengan is not\n",
    "print(x is z) #identity dengan is\n",
    "print(x is y)\n",
    "print(x == y) #tidak tergolong identity operator, karena == yang di liat nilainya bukan object (memory location)"
   ]
  },
  {
   "cell_type": "markdown",
   "metadata": {},
   "source": [
    "## Python Membership Operators\n",
    "\n",
    "Membership operators are used to test if a sequence is presented in an object:"
   ]
  },
  {
   "cell_type": "code",
   "execution_count": 15,
   "metadata": {},
   "outputs": [
    {
     "name": "stdout",
     "output_type": "stream",
     "text": [
      "True\n",
      "True\n"
     ]
    }
   ],
   "source": [
    "x = [\"mangga\", \"jambu\"]\n",
    "\n",
    "print(\"mangga\" in x) # True jika sequence (bagian dari urutan/serangkai nilai)\n",
    "print(\"melon\" not in x)"
   ]
  },
  {
   "cell_type": "markdown",
   "metadata": {},
   "source": [
    "# QUIZ"
   ]
  },
  {
   "cell_type": "markdown",
   "metadata": {},
   "source": [
    "## 1. Average Electricity Bill\n",
    "It's time to try a calculation in Python!\n",
    "\n",
    "My electricity bills for the last three months have been $23, $32 and $64. What is the average monthly electricity bill over the three month period? Write an expression to calculate the mean, and use print() to view the result."
   ]
  },
  {
   "cell_type": "code",
   "execution_count": null,
   "metadata": {},
   "outputs": [],
   "source": [
    "# Write an expression that calculates the average of 23, 32 and 64\n",
    "# Place the expression in this print statement\n",
    "print()"
   ]
  },
  {
   "cell_type": "markdown",
   "metadata": {},
   "source": [
    "## 2. Calculate\n",
    "In this quiz you're going to do some calculations for a tiler. Two parts of a floor need tiling. One part is 9 tiles wide by 7 tiles long, the other is 5 tiles wide by 7 tiles long. Tiles come in packages of 6.\n",
    "\n",
    "- How many tiles are needed?\n",
    "- You buy 17 packages of tiles containing 6 tiles each. How many tiles will be left over?"
   ]
  },
  {
   "cell_type": "code",
   "execution_count": null,
   "metadata": {},
   "outputs": [],
   "source": [
    "# Fill this in with an expression that calculates how many tiles are needed.\n",
    "print()\n",
    "\n",
    "# Fill this in with an expression that calculates how many tiles will be left over.\n",
    "print()"
   ]
  },
  {
   "cell_type": "markdown",
   "metadata": {},
   "source": [
    "## 3. Assign and Modify Variables\n",
    "\n",
    "Now it's your turn to work with variables. The comments in this quiz (the lines that begin with #) have instructions for creating and modifying variables. After each comment write a line of code that implements the instruction.\n",
    "\n",
    "Note that this code uses [scientific notation](https://en.wikipedia.org/wiki/Scientific_notation) to define large numbers. 4.445e8 is equal to 4.445 * 10 ** 8 which is equal to 444500000.0.\n"
   ]
  },
  {
   "cell_type": "code",
   "execution_count": 19,
   "metadata": {},
   "outputs": [],
   "source": [
    "# The current volume of a water reservoir (in cubic metres)\n",
    "reservoir_volume = 4.445e8\n",
    "# The amount of rainfall from a storm (in cubic metres)\n",
    "rainfall = 5e6\n",
    "\n",
    "# decrease the rainfall variable by 10% to account for runoff\n",
    "\n",
    "# add the rainfall variable to the reservoir_volume variable\n",
    "\n",
    "# increase reservoir_volume by 5% to account for stormwater that flows\n",
    "# into the reservoir in the days following the storm\n",
    "\n",
    "# decrease reservoir_volume by 5% to account for evaporation\n",
    "\n",
    "# subtract 2.5e5 cubic metres from reservoir_volume to account for water\n",
    "# that's piped to arid regions.\n",
    "\n",
    "# print the new value of the reservoir_volume variable"
   ]
  },
  {
   "cell_type": "markdown",
   "metadata": {},
   "source": []
  },
  {
   "cell_type": "markdown",
   "metadata": {},
   "source": [
    "# ANSWERS"
   ]
  },
  {
   "cell_type": "code",
   "execution_count": 18,
   "metadata": {},
   "outputs": [
    {
     "name": "stdout",
     "output_type": "stream",
     "text": [
      "39.666666666666664\n"
     ]
    }
   ],
   "source": [
    "# Write an expression that calculates the average of 23, 32 and 64.\n",
    "\n",
    "print((23+32+64)/3)"
   ]
  },
  {
   "cell_type": "code",
   "execution_count": 16,
   "metadata": {},
   "outputs": [
    {
     "name": "stdout",
     "output_type": "stream",
     "text": [
      "98\n",
      "4\n"
     ]
    }
   ],
   "source": [
    "# (1) How many tiles are needed?\n",
    "print((9*7)+(5*7))\n",
    "\n",
    "# (2) You buy 17 packages of tiles containing 6 tiles each. How many tiles will be left over?\n",
    "\n",
    "print((17*6)-((9*7)+(5*7)))"
   ]
  },
  {
   "cell_type": "code",
   "execution_count": 24,
   "metadata": {},
   "outputs": [
    {
     "name": "stdout",
     "output_type": "stream",
     "text": [
      "447627500.0\n"
     ]
    }
   ],
   "source": [
    "# The current volume of a water reservoir (in cubic metres)\n",
    "reservoir_volume = 4.445e8\n",
    "# The amount of rainfall from a storm (in cubic metres)\n",
    "rainfall = 5e6\n",
    "\n",
    "# decrease the rainfall variable by 10% to account for runoff\n",
    "rainfall *= .9\n",
    "#rainfall -= (rainfall * 0.1)\n",
    "\n",
    "# add the rainfall variable to the reservoir_volume variable\n",
    "reservoir_volume += rainfall\n",
    "\n",
    "# increase reservoir_volume by 5% to account for stormwater that flows\n",
    "# into the reservoir in the days following the storm\n",
    "reservoir_volume *= 1.05\n",
    "\n",
    "# decrease reservoir_volume by 5% to account for evaporation\n",
    "reservoir_volume *= 0.95\n",
    "\n",
    "# subtract 2.5e5 cubic metres from reservoir_volume to account for water\n",
    "# that's piped to arid regions.\n",
    "reservoir_volume -= 2.5e5 \n",
    "\n",
    "# print the new value of the reservoir_volume variable\n",
    "print(reservoir_volume)"
   ]
  }
 ],
 "metadata": {
  "interpreter": {
   "hash": "d62006d1f3422635846181a997a61e8ec3049f797e5d7dfe0cd1bb84092b7c19"
  },
  "kernelspec": {
   "display_name": "Python 3.9.4 64-bit",
   "name": "python3"
  },
  "language_info": {
   "codemirror_mode": {
    "name": "ipython",
    "version": 3
   },
   "file_extension": ".py",
   "mimetype": "text/x-python",
   "name": "python",
   "nbconvert_exporter": "python",
   "pygments_lexer": "ipython3",
   "version": "3.9.4"
  },
  "orig_nbformat": 4
 },
 "nbformat": 4,
 "nbformat_minor": 2
}
