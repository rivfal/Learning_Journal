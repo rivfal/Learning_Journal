{
 "cells": [
  {
   "cell_type": "markdown",
   "metadata": {},
   "source": [
    "# Penggunaan print() & type()"
   ]
  },
  {
   "cell_type": "code",
   "execution_count": 1,
   "metadata": {},
   "outputs": [
    {
     "name": "stdout",
     "output_type": "stream",
     "text": [
      "hello irfan\n",
      "hello irfan\n",
      "hello irfan syah\n",
      "hello irfan syah\n",
      "sardi\n",
      "irfansyah\n",
      "Jakarta \n"
     ]
    }
   ],
   "source": [
    "print('hello irfan')\n",
    "print(\"hello irfan\")\n",
    "print(\"hello irfan\", \"syah\")\n",
    "print(\"hello irfan\" + \" syah\")\n",
    "print('''sardi\n",
    "irfansyah\n",
    "Jakarta ''')"
   ]
  },
  {
   "cell_type": "code",
   "execution_count": 3,
   "metadata": {},
   "outputs": [
    {
     "name": "stdout",
     "output_type": "stream",
     "text": [
      "sardi2.2\n"
     ]
    }
   ],
   "source": [
    "print('sardi' + '2.2')"
   ]
  },
  {
   "cell_type": "code",
   "execution_count": 2,
   "metadata": {},
   "outputs": [
    {
     "name": "stdout",
     "output_type": "stream",
     "text": [
      "sardi irfansyah 2\n"
     ]
    }
   ],
   "source": [
    "print('sardi irfansyah', 2)"
   ]
  },
  {
   "cell_type": "code",
   "execution_count": 5,
   "metadata": {},
   "outputs": [
    {
     "ename": "SyntaxError",
     "evalue": "EOL while scanning string literal (<ipython-input-5-2de23595db20>, line 1)",
     "output_type": "error",
     "traceback": [
      "\u001b[1;36m  File \u001b[1;32m\"<ipython-input-5-2de23595db20>\"\u001b[1;36m, line \u001b[1;32m1\u001b[0m\n\u001b[1;33m    print(\"hello\u001b[0m\n\u001b[1;37m                ^\u001b[0m\n\u001b[1;31mSyntaxError\u001b[0m\u001b[1;31m:\u001b[0m EOL while scanning string literal\n"
     ]
    }
   ],
   "source": [
    "print(\"hello\n",
    "irfansyah\")"
   ]
  },
  {
   "cell_type": "code",
   "execution_count": 5,
   "metadata": {},
   "outputs": [
    {
     "name": "stdout",
     "output_type": "stream",
     "text": [
      "hallo \n",
      "sardi\n"
     ]
    }
   ],
   "source": [
    "print('''hallo \n",
    "sardi''')"
   ]
  },
  {
   "cell_type": "code",
   "execution_count": 4,
   "metadata": {},
   "outputs": [
    {
     "name": "stdout",
     "output_type": "stream",
     "text": [
      "hallo \n",
      "sardi\n"
     ]
    }
   ],
   "source": [
    "print(\"\"\"hallo \n",
    "sardi\"\"\")"
   ]
  },
  {
   "cell_type": "code",
   "execution_count": 3,
   "metadata": {},
   "outputs": [],
   "source": [
    "#print('hello')"
   ]
  },
  {
   "cell_type": "code",
   "execution_count": null,
   "metadata": {},
   "outputs": [],
   "source": [
    "ctrl + /"
   ]
  },
  {
   "cell_type": "code",
   "execution_count": 5,
   "metadata": {},
   "outputs": [
    {
     "name": "stdout",
     "output_type": "stream",
     "text": [
      "sardi 2\n",
      "4\n",
      "4.2\n"
     ]
    }
   ],
   "source": [
    "#print('sardi' +2) #akan error\n",
    "print('sardi', 2)\n",
    "# print('2' + 3) #akan error\n",
    "print(2+2)\n",
    "print(2+2.2)\n"
   ]
  },
  {
   "cell_type": "markdown",
   "metadata": {},
   "source": [
    "**type() untuk cek type data**"
   ]
  },
  {
   "cell_type": "code",
   "execution_count": 8,
   "metadata": {},
   "outputs": [
    {
     "name": "stdout",
     "output_type": "stream",
     "text": [
      "False\n"
     ]
    }
   ],
   "source": [
    "print(bool())"
   ]
  },
  {
   "cell_type": "code",
   "execution_count": 24,
   "metadata": {},
   "outputs": [
    {
     "name": "stdout",
     "output_type": "stream",
     "text": [
      "<class 'float'>\n",
      "<class 'int'>\n",
      "<class 'str'>\n",
      "<class 'str'>\n",
      "True\n",
      "True\n",
      "True\n",
      "<class 'complex'>\n",
      "<class 'float'>\n"
     ]
    }
   ],
   "source": [
    "print(type(2.2))\n",
    "print(type(3))\n",
    "print(type('2'))\n",
    "print(type('irfan'))\n",
    "print(bool(\"Hello\")) #Any string is True, except empty strings.\n",
    "print(bool(15)) #Any number is True, except 0.\n",
    "print(bool([\"apple\", \"cherry\", \"banana\"])) # list\n",
    "print(type(1j)) # bilangan complex\n",
    "print(type(35e3)) # e untuk 10 pangkat ?"
   ]
  },
  {
   "cell_type": "code",
   "execution_count": 25,
   "metadata": {},
   "outputs": [
    {
     "name": "stdout",
     "output_type": "stream",
     "text": [
      "False\n",
      "False\n",
      "False\n",
      "False\n",
      "False\n"
     ]
    }
   ],
   "source": [
    "print(bool(False))\n",
    "print(bool(None))\n",
    "print(bool(0))\n",
    "print(bool(\"\"))\n",
    "print(bool(()))"
   ]
  },
  {
   "cell_type": "markdown",
   "metadata": {},
   "source": [
    "# casting & comments"
   ]
  },
  {
   "cell_type": "code",
   "execution_count": 11,
   "metadata": {},
   "outputs": [
    {
     "name": "stdout",
     "output_type": "stream",
     "text": [
      "<class 'str'>\n"
     ]
    }
   ],
   "source": [
    "x= str(2)\n",
    "print(type(x))"
   ]
  },
  {
   "cell_type": "code",
   "execution_count": 3,
   "metadata": {},
   "outputs": [
    {
     "name": "stdout",
     "output_type": "stream",
     "text": [
      "2 3 4 4\n"
     ]
    }
   ],
   "source": [
    "x = int(2)\n",
    "y = int(3.8)\n",
    "z = int(\"4\") \n",
    "k= round(3.8) #untuk menjadikan bilangan bulat\n",
    "print(x, y, z, k)"
   ]
  },
  {
   "cell_type": "code",
   "execution_count": 6,
   "metadata": {},
   "outputs": [
    {
     "name": "stdout",
     "output_type": "stream",
     "text": [
      "4\n"
     ]
    }
   ],
   "source": [
    "x = 2\n",
    "z= '2' #string\n",
    "\n",
    "print(int(z) + x)"
   ]
  },
  {
   "cell_type": "code",
   "execution_count": 21,
   "metadata": {},
   "outputs": [
    {
     "name": "stdout",
     "output_type": "stream",
     "text": [
      "2.2\n",
      "4.2\n"
     ]
    }
   ],
   "source": [
    "x= 2.2\n",
    "y= 2\n",
    "\n",
    "z= x + y\n",
    "print(x)\n",
    "print(z)"
   ]
  },
  {
   "cell_type": "code",
   "execution_count": 11,
   "metadata": {},
   "outputs": [
    {
     "name": "stdout",
     "output_type": "stream",
     "text": [
      "5.77\n"
     ]
    }
   ],
   "source": [
    "x = round(5.76543, 2) #setting jumlah digit setelah koma\n",
    "# y = float(5.76543, 2) #tidak bisa penggunaan float seperti ini\n",
    "print(x)\n",
    "# print(y) "
   ]
  },
  {
   "cell_type": "code",
   "execution_count": 27,
   "metadata": {},
   "outputs": [
    {
     "name": "stdout",
     "output_type": "stream",
     "text": [
      "2.0 3.8 4.0\n"
     ]
    }
   ],
   "source": [
    "x = float(2)\n",
    "y = float(3.8)\n",
    "z = float(\"4\") \n",
    "print(x, y, z)"
   ]
  },
  {
   "cell_type": "markdown",
   "metadata": {},
   "source": [
    "https://code.visualstudio.com/docs/python/jupyter-support-py\n",
    "\n",
    "https://www.codegrepper.com/code-examples/whatever/replace+block+of+code+vscode\n"
   ]
  },
  {
   "cell_type": "code",
   "execution_count": 13,
   "metadata": {},
   "outputs": [
    {
     "name": "stdout",
     "output_type": "stream",
     "text": [
      "1 2.8 3\n"
     ]
    }
   ],
   "source": [
    "x = str(1)\n",
    "y = str(2.8)\n",
    "z = str(\"3\") \n",
    "print(x, y, z)\n"
   ]
  },
  {
   "cell_type": "markdown",
   "metadata": {},
   "source": [
    "Comments can be used to explain Python code.\n",
    "\n",
    "Comments can be used to make the code more readable.\n",
    "\n",
    "Comments can be used to prevent execution when testing code."
   ]
  },
  {
   "cell_type": "code",
   "execution_count": 29,
   "metadata": {},
   "outputs": [
    {
     "name": "stdout",
     "output_type": "stream",
     "text": [
      "in adalah uji coba comment\n"
     ]
    }
   ],
   "source": [
    "'''comment\n",
    "comment'''\n",
    "#comment\n",
    "print('in adalah uji coba comment')"
   ]
  },
  {
   "cell_type": "code",
   "execution_count": 14,
   "metadata": {},
   "outputs": [
    {
     "name": "stdout",
     "output_type": "stream",
     "text": [
      "600\n"
     ]
    }
   ],
   "source": [
    "# hitung luas tanah\n",
    "panjang= 20\n",
    "lebar = 30\n",
    "\n",
    "print(panjang * lebar)"
   ]
  },
  {
   "cell_type": "code",
   "execution_count": 15,
   "metadata": {},
   "outputs": [
    {
     "data": {
      "text/plain": [
       "600"
      ]
     },
     "execution_count": 15,
     "metadata": {},
     "output_type": "execute_result"
    }
   ],
   "source": [
    "panjang * lebar"
   ]
  },
  {
   "cell_type": "markdown",
   "metadata": {},
   "source": [
    "# Variable\n",
    "\n",
    "Variables are containers for storing data values.\n",
    "\n",
    "A variable is created the moment you first assign a value to it."
   ]
  },
  {
   "cell_type": "code",
   "execution_count": null,
   "metadata": {},
   "outputs": [],
   "source": [
    "3.222222222222222222"
   ]
  },
  {
   "cell_type": "code",
   "execution_count": null,
   "metadata": {},
   "outputs": [],
   "source": []
  },
  {
   "cell_type": "code",
   "execution_count": 30,
   "metadata": {},
   "outputs": [
    {
     "name": "stdout",
     "output_type": "stream",
     "text": [
      "<class 'float'>\n",
      "31\n",
      "33.0\n"
     ]
    }
   ],
   "source": [
    "x = 32.2\n",
    "y = int(31)\n",
    "z = 33\n",
    "\n",
    "print(type(x))\n",
    "print(y)\n",
    "print(float(z))"
   ]
  },
  {
   "cell_type": "markdown",
   "metadata": {},
   "source": [
    "**Case-Sensitive**"
   ]
  },
  {
   "cell_type": "code",
   "execution_count": 19,
   "metadata": {},
   "outputs": [
    {
     "ename": "NameError",
     "evalue": "name 'Nama' is not defined",
     "output_type": "error",
     "traceback": [
      "\u001b[1;31m---------------------------------------------------------------------------\u001b[0m",
      "\u001b[1;31mNameError\u001b[0m                                 Traceback (most recent call last)",
      "\u001b[1;32m<ipython-input-19-b6f4acece9b0>\u001b[0m in \u001b[0;36m<module>\u001b[1;34m\u001b[0m\n\u001b[0;32m      1\u001b[0m \u001b[0mnama\u001b[0m \u001b[1;33m=\u001b[0m \u001b[1;34m'sardi irfansyah'\u001b[0m\u001b[1;33m\u001b[0m\u001b[1;33m\u001b[0m\u001b[0m\n\u001b[1;32m----> 2\u001b[1;33m \u001b[0mprint\u001b[0m\u001b[1;33m(\u001b[0m\u001b[0mNama\u001b[0m\u001b[1;33m)\u001b[0m \u001b[1;31m#akan error\u001b[0m\u001b[1;33m\u001b[0m\u001b[1;33m\u001b[0m\u001b[0m\n\u001b[0m",
      "\u001b[1;31mNameError\u001b[0m: name 'Nama' is not defined"
     ]
    }
   ],
   "source": [
    "nama = 'sardi irfansyah'\n",
    "print(Nama) #akan error"
   ]
  },
  {
   "cell_type": "code",
   "execution_count": null,
   "metadata": {},
   "outputs": [],
   "source": [
    "Print(nama) #akan error"
   ]
  },
  {
   "cell_type": "markdown",
   "metadata": {},
   "source": [
    "**Variable Names**\n",
    "\n",
    "- A variable name must start with a letter or the underscore character\n",
    "- A variable name **cannot start with a number**\n",
    "- A variable name can only contain alpha-numeric characters and underscores (A-z, 0-9, and _ )\n",
    "- Variable names are case-sensitive (age, Age and AGE are three different variables)"
   ]
  },
  {
   "cell_type": "code",
   "execution_count": null,
   "metadata": {},
   "outputs": [],
   "source": [
    "var1= 'irfan'\n",
    "Var2= 'irfansyah'\n",
    "_Var3= 'sardi'"
   ]
  },
  {
   "cell_type": "code",
   "execution_count": null,
   "metadata": {},
   "outputs": [],
   "source": [
    "# 4Var4 ='sardi' # tidak boleh & akan error"
   ]
  },
  {
   "cell_type": "code",
   "execution_count": 1,
   "metadata": {},
   "outputs": [
    {
     "name": "stdout",
     "output_type": "stream",
     "text": [
      "sardi\n",
      "irfan\n",
      "ihsan\n"
     ]
    }
   ],
   "source": [
    "x, y, z = \"sardi\", \"irfan\", \"ihsan\"\n",
    "print(x)\n",
    "print(y)\n",
    "print(z)"
   ]
  },
  {
   "cell_type": "code",
   "execution_count": 23,
   "metadata": {},
   "outputs": [
    {
     "name": "stdout",
     "output_type": "stream",
     "text": [
      "irfan\n",
      "irfan\n",
      "irfan\n"
     ]
    }
   ],
   "source": [
    "x = y = z = \"irfan\"\n",
    "print(x)\n",
    "print(y)\n",
    "print(z)"
   ]
  },
  {
   "cell_type": "code",
   "execution_count": 26,
   "metadata": {},
   "outputs": [
    {
     "data": {
      "text/plain": [
       "20"
      ]
     },
     "execution_count": 26,
     "metadata": {},
     "output_type": "execute_result"
    }
   ],
   "source": [
    "x= 20\n",
    "x"
   ]
  },
  {
   "cell_type": "markdown",
   "metadata": {},
   "source": [
    "**Multi Words Variable Names**\n",
    "\n",
    "Variable names with more than one word can be difficult to read.\n",
    "\n",
    "There are several techniques you can use to make them more readable:"
   ]
  },
  {
   "cell_type": "code",
   "execution_count": null,
   "metadata": {},
   "outputs": [],
   "source": [
    "#Camel Case\n",
    "myVariableName = \"Irfan\"\n",
    "\n",
    "#Pascal Case\n",
    "MyVariableName = \"Irfan\"\n",
    "\n",
    "#Snake Case\n",
    "my_variable_name = \"Irfan\""
   ]
  },
  {
   "cell_type": "markdown",
   "metadata": {},
   "source": [
    "# String (slicing, modify, format, escape & methods)"
   ]
  },
  {
   "cell_type": "markdown",
   "metadata": {},
   "source": [
    "**SLICING**"
   ]
  },
  {
   "cell_type": "markdown",
   "metadata": {},
   "source": [
    "slicing berdasarkan index, **index dimulai dari angka 0**"
   ]
  },
  {
   "cell_type": "code",
   "execution_count": 30,
   "metadata": {},
   "outputs": [
    {
     "name": "stdout",
     "output_type": "stream",
     "text": [
      "i\n",
      "15\n",
      "False\n",
      "True\n"
     ]
    }
   ],
   "source": [
    "a = \"sardi irfansyah\"\n",
    "print(a[4]) # akses string\n",
    "print(len(a)) #mengetahui panjang atau length dari string\n",
    "print(\"irfan2\" in a) #check string\n",
    "print(\"kenshin\" not in a)\n"
   ]
  },
  {
   "cell_type": "code",
   "execution_count": 34,
   "metadata": {},
   "outputs": [
    {
     "name": "stdout",
     "output_type": "stream",
     "text": [
      "sardi irfansyah\n"
     ]
    }
   ],
   "source": [
    "print(a[:])"
   ]
  },
  {
   "cell_type": "code",
   "execution_count": 32,
   "metadata": {},
   "outputs": [
    {
     "name": "stdout",
     "output_type": "stream",
     "text": [
      "rdi\n",
      "sardi ir\n",
      "rdi irfansyah\n",
      "riif\n"
     ]
    }
   ],
   "source": [
    "print(a[2:5]) # slicing string dari index 2 sampai 4\n",
    "print(a[:8]) # dari awal sampai index 7\n",
    "print(a[2:]) # dari index 2 sampai akhir\n",
    "print(a[2:10:2]) # dari index 2 sampai 9, step 2 (penambahan 2 setiap index)\n"
   ]
  },
  {
   "cell_type": "code",
   "execution_count": null,
   "metadata": {},
   "outputs": [
    {
     "name": "stdout",
     "output_type": "stream",
     "text": [
      "h\n",
      "nsy\n",
      "sardi i\n",
      "syah\n",
      " ra\n"
     ]
    }
   ],
   "source": [
    "print(a[-1]) #index paling akhir\n",
    "print(a[-5:-2]) # slicing string dari index -5 sampai -3\n",
    "print(a[:-8]) # dari awal sampai index -9\n",
    "print(a[-4:]) # dari index -4 sampai akhir\n",
    "print(a[-10:-5:2]) # dari index -10 sampai -6, step 2 (penambahan 2 setiap index)"
   ]
  },
  {
   "cell_type": "code",
   "execution_count": 30,
   "metadata": {},
   "outputs": [
    {
     "name": "stdout",
     "output_type": "stream",
     "text": [
      "SARDI IRFANSYAH\n",
      "sardi irfansyah\n",
      "ada spasi awal, dan akhir\n",
      " aja spasi awal, jan akhir \n",
      "[' ada spasi awal', ' dan akhir ']\n",
      "['', 'ada', 'spasi', 'awal,', 'dan', 'akhir', '']\n"
     ]
    }
   ],
   "source": [
    "print(a.upper()) #modify string ke upper case\n",
    "print(a.lower()) #modify string ke lower case\n",
    "\n",
    "b = ' ada spasi awal, dan akhir '\n",
    "print(b.strip()) #remove white space di awal dan akhir\n",
    "print(b.replace(\"d\", \"j\"))\n",
    "print(b.split(\",\")) #split string ke dalam substring dgn separator sebagai pembaginya\n",
    "print(b.split(\" \"))"
   ]
  },
  {
   "cell_type": "markdown",
   "metadata": {},
   "source": [
    "Note: \n",
    "- Penggunaan modify diatas tidak akan mempengaruhi variable aslinya. \n",
    "- Apabila kita print variable aslinya saja maka variablenya akan tetap seperti awal"
   ]
  },
  {
   "cell_type": "markdown",
   "metadata": {},
   "source": [
    "**FORMAT STRING**"
   ]
  },
  {
   "cell_type": "code",
   "execution_count": null,
   "metadata": {},
   "outputs": [
    {
     "name": "stdout",
     "output_type": "stream",
     "text": [
      "Hallo, umur saya adalah 25\n"
     ]
    }
   ],
   "source": [
    "#penggunaan string format\n",
    "umur = 25\n",
    "txt = \"Hallo, umur saya adalah {}\"\n",
    "print(txt.format(umur))"
   ]
  },
  {
   "cell_type": "code",
   "execution_count": null,
   "metadata": {},
   "outputs": [],
   "source": [
    "umur = 25\n",
    "txt = \"Hallo, umur saya adalah {}\"\n",
    "print(txt.format(umur))"
   ]
  },
  {
   "cell_type": "code",
   "execution_count": 36,
   "metadata": {},
   "outputs": [
    {
     "name": "stdout",
     "output_type": "stream",
     "text": [
      "Hallo, nama saya 25, umur saya adalah 25\n"
     ]
    }
   ],
   "source": [
    "nama = 'irfansyah'\n",
    "umur = 25\n",
    "txt = \"Hallo, nama saya {}, umur saya adalah {}\"\n",
    "print(txt.format(nama,umur)) # cetak berdasarkan urutan arguments"
   ]
  },
  {
   "cell_type": "code",
   "execution_count": 34,
   "metadata": {},
   "outputs": [
    {
     "name": "stdout",
     "output_type": "stream",
     "text": [
      "Hallo, nama saya irfansyah, umur saya adalah 25\n"
     ]
    }
   ],
   "source": [
    "umur = 25\n",
    "nama = 'irfansyah'\n",
    "\n",
    "txt = \"Hallo, nama saya {1}, umur saya adalah {0}\"\n",
    "print(txt.format(umur, nama)) # cetak berdasarkan urutan index\n",
    "# print(txt.format(index0, index1))"
   ]
  },
  {
   "cell_type": "code",
   "execution_count": 39,
   "metadata": {},
   "outputs": [
    {
     "name": "stdout",
     "output_type": "stream",
     "text": [
      "harganya hanya 49000.000000 rupiah!\n"
     ]
    }
   ],
   "source": [
    "txt = \"harganya hanya {price:.6f} rupiah!\" #jadika ke float\n",
    "print(txt.format(price = 49000))"
   ]
  },
  {
   "cell_type": "markdown",
   "metadata": {},
   "source": [
    "**Referensi tambahan:** \n",
    "- [link 1 (Formatting Types)](https://www.w3schools.com/python/ref_string_format.asp)\n",
    "- [link 2](https://www.learnpython.org/en/String_Formatting)\n",
    "- [link 3](https://realpython.com/python-string-formatting/#3-string-interpolation-f-strings-python-36)"
   ]
  },
  {
   "cell_type": "code",
   "execution_count": 17,
   "metadata": {},
   "outputs": [
    {
     "name": "stdout",
     "output_type": "stream",
     "text": [
      "irfan berumur 25 tahun, memiliki tinggi 168.50\n"
     ]
    }
   ],
   "source": [
    "nama = \"irfan\"\n",
    "umur = 25\n",
    "tinggi = 168.5\n",
    "print(\"%s berumur %d tahun, memiliki tinggi %.2f\" % (nama, umur, tinggi)) # dengan %s"
   ]
  },
  {
   "cell_type": "code",
   "execution_count": null,
   "metadata": {},
   "outputs": [
    {
     "name": "stdout",
     "output_type": "stream",
     "text": [
      "Hello, irfansyah\n"
     ]
    }
   ],
   "source": [
    "name ='irfansyah'\n",
    "print(f'Hello, {name}') # dengan f' string (Python 3.6+)"
   ]
  },
  {
   "cell_type": "markdown",
   "metadata": {},
   "source": [
    "**ESCAPE (penggunaan backslash)**"
   ]
  },
  {
   "cell_type": "code",
   "execution_count": 40,
   "metadata": {},
   "outputs": [
    {
     "ename": "SyntaxError",
     "evalue": "invalid syntax (<ipython-input-40-200eb0b89a02>, line 1)",
     "output_type": "error",
     "traceback": [
      "\u001b[1;36m  File \u001b[1;32m\"<ipython-input-40-200eb0b89a02>\"\u001b[1;36m, line \u001b[1;32m1\u001b[0m\n\u001b[1;33m    txt = \"Hallo, \"sardi irfansyah\", apa kabar? \" #akan error\u001b[0m\n\u001b[1;37m                   ^\u001b[0m\n\u001b[1;31mSyntaxError\u001b[0m\u001b[1;31m:\u001b[0m invalid syntax\n"
     ]
    }
   ],
   "source": [
    "txt = \"Hallo, \"sardi irfansyah\", apa kabar? \" #akan error "
   ]
  },
  {
   "cell_type": "code",
   "execution_count": 38,
   "metadata": {},
   "outputs": [
    {
     "name": "stdout",
     "output_type": "stream",
     "text": [
      "Hallo, \"sardi irfansyah\", apa kabar? \n"
     ]
    }
   ],
   "source": [
    "txt = \"Hallo, \\\"sardi irfansyah\\\", apa kabar? \" #menggunakan escape character \\ (backslash) \n",
    "print(txt)"
   ]
  },
  {
   "cell_type": "code",
   "execution_count": 44,
   "metadata": {},
   "outputs": [
    {
     "name": "stdout",
     "output_type": "stream",
     "text": [
      "Hello\n",
      "World!\n"
     ]
    }
   ],
   "source": [
    "txt3 = \"Hello\\nWorld!\" #new line\n",
    "print(txt3)"
   ]
  },
  {
   "cell_type": "code",
   "execution_count": null,
   "metadata": {},
   "outputs": [
    {
     "name": "stdout",
     "output_type": "stream",
     "text": [
      "It's alright.\n",
      "This will insert one \\ (backslash).\n",
      "Hello\n",
      "World!\n",
      "HelloWorld!\n",
      "Hello\tWorld!\n"
     ]
    }
   ],
   "source": [
    "txt1 = 'It\\'s alright.' #menggunakan ecape character untuk single quote\n",
    "txt2 = \"This will insert one \\\\ (backslash).\"\n",
    "txt3 = \"Hello\\nWorld!\" #new line\n",
    "txt4 = \"Hello \\bWorld!\" #hapus satu character (backspace)\n",
    "txt5 = \"Hello\\tWorld!\" #tab\n",
    "\n",
    "print(txt1) \n",
    "print(txt2) \n",
    "print(txt3) \n",
    "print(txt4) \n",
    "print(txt5) "
   ]
  },
  {
   "cell_type": "markdown",
   "metadata": {},
   "source": [
    "**STRING METHODS**\n",
    "\n",
    "Referensi tambahan : [link 1](https://www.w3schools.com/python/python_strings_methods.asp)\n",
    "\n",
    "<img src='./images/method.png'>"
   ]
  },
  {
   "cell_type": "markdown",
   "metadata": {},
   "source": [
    "**1. Count()**"
   ]
  },
  {
   "cell_type": "code",
   "execution_count": null,
   "metadata": {},
   "outputs": [
    {
     "name": "stdout",
     "output_type": "stream",
     "text": [
      "2\n",
      "1\n"
     ]
    }
   ],
   "source": [
    "txt = \"Saya suka semangka, semangka itu enak\"\n",
    "x = txt.count(\"semangka\") # menghitung jumlah string\n",
    "y = txt.count(\"semangka\", 2, 23) # (value, start, end), default index start=0 \n",
    "\n",
    "print(x)\n",
    "print(y)\n"
   ]
  },
  {
   "cell_type": "markdown",
   "metadata": {},
   "source": [
    "**3. endswith() & starstwith**"
   ]
  },
  {
   "cell_type": "code",
   "execution_count": 37,
   "metadata": {},
   "outputs": [
    {
     "name": "stdout",
     "output_type": "stream",
     "text": [
      "True\n",
      "True\n",
      "27\n",
      "False\n",
      "True\n"
     ]
    }
   ],
   "source": [
    "txt = \"Hello, welcome to my world.\"\n",
    "x = txt.endswith(\".\") #return true jika string diakhiri tanda titik\n",
    "y = txt.endswith(\"my world.\")\n",
    "z = txt.endswith(\"my world.\", 3, 25)\n",
    "k = txt.startswith(\"wel\", 7, 20) #return true jika string di awali wel di index ke-7\n",
    "\n",
    "print(x)\n",
    "print(y)\n",
    "print(len(txt))\n",
    "print(z)\n",
    "print(k)"
   ]
  },
  {
   "cell_type": "markdown",
   "metadata": {},
   "source": [
    "**4. find() & index()**\n",
    "\n",
    "- The find() method finds the first occurrence of the specified value.\n",
    "- The find() method returns **-1** if the value is **not found**."
   ]
  },
  {
   "cell_type": "code",
   "execution_count": 45,
   "metadata": {},
   "outputs": [
    {
     "name": "stdout",
     "output_type": "stream",
     "text": [
      "1\n",
      "8\n",
      "-1\n"
     ]
    }
   ],
   "source": [
    "txt = \"Hello, selamat hari kemerdekaan.\"\n",
    "x = txt.find(\"e\")\n",
    "y = txt.find(\"e\", 5, 10)\n",
    "\n",
    "print(x)\n",
    "print(y)\n",
    "print(txt.find(\"j\")) #output -1"
   ]
  },
  {
   "cell_type": "code",
   "execution_count": null,
   "metadata": {},
   "outputs": [
    {
     "name": "stdout",
     "output_type": "stream",
     "text": [
      "-1\n"
     ]
    },
    {
     "ename": "ValueError",
     "evalue": "substring not found",
     "output_type": "error",
     "traceback": [
      "\u001b[1;31m---------------------------------------------------------------------------\u001b[0m",
      "\u001b[1;31mValueError\u001b[0m                                Traceback (most recent call last)",
      "\u001b[1;32m<ipython-input-18-66e87c99ac30>\u001b[0m in \u001b[0;36m<module>\u001b[1;34m\u001b[0m\n\u001b[0;32m      1\u001b[0m \u001b[0mprint\u001b[0m\u001b[1;33m(\u001b[0m\u001b[0mtxt\u001b[0m\u001b[1;33m.\u001b[0m\u001b[0mfind\u001b[0m\u001b[1;33m(\u001b[0m\u001b[1;34m\"c\"\u001b[0m\u001b[1;33m)\u001b[0m\u001b[1;33m)\u001b[0m\u001b[1;33m\u001b[0m\u001b[1;33m\u001b[0m\u001b[0m\n\u001b[1;32m----> 2\u001b[1;33m \u001b[0mprint\u001b[0m\u001b[1;33m(\u001b[0m\u001b[0mtxt\u001b[0m\u001b[1;33m.\u001b[0m\u001b[0mindex\u001b[0m\u001b[1;33m(\u001b[0m\u001b[1;34m\"c\"\u001b[0m\u001b[1;33m)\u001b[0m\u001b[1;33m)\u001b[0m\u001b[1;33m\u001b[0m\u001b[1;33m\u001b[0m\u001b[0m\n\u001b[0m",
      "\u001b[1;31mValueError\u001b[0m: substring not found"
     ]
    }
   ],
   "source": [
    "print(txt.find(\"c\")) #mirip index tapi tidak akan error jika 'c' tidak ada\n",
    "print(txt.index(\"c\")) #akan error, karena berbeda dengan find"
   ]
  },
  {
   "cell_type": "markdown",
   "metadata": {},
   "source": [
    "**5. isalnum()**\n",
    "\n",
    "The isalnum() method returns **True** if **all the characters** are **alphanumeric**, meaning alphabet letter (a-z) and numbers (0-9). \n",
    "\n",
    "Example of characters that are not alphanumeric: (space)!#%&? etc."
   ]
  },
  {
   "cell_type": "code",
   "execution_count": null,
   "metadata": {},
   "outputs": [
    {
     "name": "stdout",
     "output_type": "stream",
     "text": [
      "False\n"
     ]
    }
   ],
   "source": [
    "print(txt.isalnum())"
   ]
  },
  {
   "cell_type": "markdown",
   "metadata": {},
   "source": [
    "**6. join()**"
   ]
  },
  {
   "cell_type": "code",
   "execution_count": null,
   "metadata": {},
   "outputs": [
    {
     "name": "stdout",
     "output_type": "stream",
     "text": [
      "John#Jack#Nacky\n"
     ]
    }
   ],
   "source": [
    "myTuple = (\"John\", \"Jack\", \"Nacky\")\n",
    "x = \"#\".join(myTuple) #Join semua item di tuple dengan hash chacter sebagai separtornya\n",
    "\n",
    "print(x)\n"
   ]
  },
  {
   "cell_type": "code",
   "execution_count": 32,
   "metadata": {},
   "outputs": [
    {
     "name": "stdout",
     "output_type": "stream",
     "text": [
      "nameTESTcity\n"
     ]
    }
   ],
   "source": [
    "myDict = {\"name\": \"Irfan\", \"city\": \"Jakarta\"}\n",
    "mySeparator = \"TEST\"\n",
    "\n",
    "x = mySeparator.join(myDict)\n",
    "print(x)"
   ]
  }
 ],
 "metadata": {
  "interpreter": {
   "hash": "d62006d1f3422635846181a997a61e8ec3049f797e5d7dfe0cd1bb84092b7c19"
  },
  "kernelspec": {
   "display_name": "Python 3.9.4 64-bit",
   "name": "python3"
  },
  "language_info": {
   "codemirror_mode": {
    "name": "ipython",
    "version": 3
   },
   "file_extension": ".py",
   "mimetype": "text/x-python",
   "name": "python",
   "nbconvert_exporter": "python",
   "pygments_lexer": "ipython3",
   "version": "3.9.4"
  },
  "orig_nbformat": 4
 },
 "nbformat": 4,
 "nbformat_minor": 2
}
